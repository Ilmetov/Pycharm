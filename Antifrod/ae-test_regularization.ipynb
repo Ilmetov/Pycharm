{
 "cells": [
  {
   "cell_type": "code",
   "execution_count": 1,
   "metadata": {},
   "outputs": [],
   "source": [
    "from pandas import read_csv, DataFrame\n",
    "import pandas as pd\n",
    "import numpy as np\n",
    "from sklearn.linear_model import LinearRegression, LogisticRegression\n",
    "from sklearn.svm import SVR\n",
    "from sklearn.ensemble import RandomForestRegressor\n",
    "from sklearn.metrics import r2_score, roc_auc_score, roc_curve\n",
    "from sklearn.cross_validation import train_test_split\n",
    "import matplotlib.pyplot as plt\n",
    "\n",
    "\n",
    "learn = read_csv('full_learn_dataset.csv',';',low_memory=False, header =0, )\n",
    "learn = learn.fillna(0)\n",
    "fraud = {'fraud': 1, 'good': 0}\n",
    "flag = {1: True, 0: False}\n",
    "\n",
    "learn['type'] = learn['type'].replace(fraud)\n",
    "learn['BK_PIN_FLAG'] = learn['BK_PIN_FLAG'].replace(flag)\n",
    "learn['STORNO_APPROVE_FLAG'] = learn['STORNO_APPROVE_FLAG'].replace(flag)\n",
    "learn['MAIN_OPERATION'] = learn['MAIN_OPERATION'].replace(flag)\n",
    "\n",
    "trg = learn['type']\n",
    "trn = learn.drop(['type','id','evt_type','FLAG_ID_STORNO_APPROVE','FLAG_BK_PIN'], axis=1)"
   ]
  },
  {
   "cell_type": "code",
   "execution_count": 2,
   "metadata": {},
   "outputs": [],
   "source": [
    "Xtrn, Xtest, Ytrn, Ytest = train_test_split(trn, trg, test_size=0.3)"
   ]
  },
  {
   "cell_type": "code",
   "execution_count": 15,
   "metadata": {},
   "outputs": [],
   "source": [
    "model = LogisticRegression() # логистическая регрессия\n",
    "\n",
    "model.fit(Xtrn, Ytrn)\n",
    "roc = roc_auc_score(Ytest, model.predict(Xtest))\n",
    "fpr, tpr, thresholds  = roc_curve(Ytest, model.predict(Xtest))"
   ]
  },
  {
   "cell_type": "markdown",
   "metadata": {},
   "source": [
    "### Feature Selection"
   ]
  },
  {
   "cell_type": "code",
   "execution_count": 7,
   "metadata": {},
   "outputs": [],
   "source": [
    "from sklearn.linear_model import LogisticRegression\n",
    "from sklearn.feature_selection import RFE"
   ]
  },
  {
   "cell_type": "code",
   "execution_count": 8,
   "metadata": {},
   "outputs": [],
   "source": [
    "logreg = LogisticRegression(penalty='l2',class_weight=)\n",
    "rfe = RFE(logreg, 5)\n",
    "selector = rfe.fit(Xtrn,Ytrn)"
   ]
  },
  {
   "cell_type": "code",
   "execution_count": 26,
   "metadata": {},
   "outputs": [
    {
     "data": {
      "text/plain": [
       "Index([u'1115_post', u'1164_post', u'6071542409_post', u'6101688611_post',\n",
       "       u'7163029317_prev'],\n",
       "      dtype='object')"
      ]
     },
     "execution_count": 26,
     "output_type": "execute_result",
     "metadata": {}
    }
   ],
   "source": [
    "trn.columns[np.where(selector.ranking_ == 1)]"
   ]
  },
  {
   "cell_type": "code",
   "metadata": {},
   "outputs": [],
   "source": [
    "import matplotlib.pyplot as plt\n",
    "%matplotlib inline  \n",
    "plt.plot(fpr, tpr)"
   ]
  },
  {
   "cell_type": "code",
   "execution_count": 25,
   "metadata": {},
   "outputs": [
    {
     "data": {
      "text/plain": [
       "array([ 0.94836724, -0.61985865,  0.62991553,  1.42579973,  0.82809979])"
      ]
     },
     "execution_count": 25,
     "output_type": "execute_result",
     "metadata": {}
    }
   ],
   "source": [
    "model.coef_[0][np.where(selector.ranking_ == 1)]"
   ]
  },
  {
   "cell_type": "markdown",
   "metadata": {},
   "source": [
    "## Data Grid on weights"
   ]
  },
  {
   "cell_type": "code",
   "execution_count": 27,
   "metadata": {},
   "outputs": [],
   "source": [
    "features,labels = Xtrn, Ytrn"
   ]
  },
  {
   "cell_type": "code",
   "execution_count": 42,
   "metadata": {},
   "outputs": [],
   "source": [
    "from sklearn import tree\n",
    "from sklearn import grid_search"
   ]
  },
  {
   "cell_type": "code",
   "execution_count": 46,
   "metadata": {},
   "outputs": [
    {
     "name": "stdout",
     "output_type": "stream",
     "text": [
      "{'splitter': 'best', 'min_samples_leaf': 1, 'min_samples_split': 25, 'max_features': 2, 'max_depth': 4, 'class_weight': {1: 10}}\n"
     ]
    }
   ],
   "source": [
    "clf1 = tree.DecisionTreeClassifier()\n",
    "parameters_to_tune = {\n",
    "                        'min_samples_split':[2,4,6,10,15,25], 'min_samples_leaf':[1,2,4,10],'max_depth':[None,4,10,15],\n",
    "                        'splitter' : ('best','random'),'max_features':[None,2,4,6,8,10,12,14],'class_weight':[{1:10},\"auto\"]\n",
    "                     }\n",
    "clf=grid_search.GridSearchCV(clf1,parameters_to_tune)\n",
    "clf.fit(features,labels)\n",
    "print clf.best_params_"
   ]
  },
  {
   "cell_type": "code",
   "execution_count": 48,
   "metadata": {},
   "outputs": [],
   "source": [
    "tree.export_graphviz(\n",
    "    clf.best_estimator_.tree_,\n",
    "    out_file='gridsearch_best-tree.dot'\n",
    ")"
   ]
  },
  {
   "cell_type": "code",
   "execution_count": 50,
   "metadata": {},
   "outputs": [
    {
     "name": "stdout",
     "output_type": "stream",
     "text": [
      "{'max_features': 4, 'splitter': 'random', 'min_samples_leaf': 10, 'max_depth': None, 'class_weight': {1: 10}}\n"
     ]
    }
   ],
   "source": [
    "clf2 = tree.DecisionTreeClassifier()\n",
    "parameters_to_tune = {\n",
    "                        'min_samples_leaf':[1,2,4,10],'max_depth':[None,4,10],\n",
    "                        'splitter' : ('best','random'),'max_features':[4,6,10],'class_weight':[{1:10},{1:20},{1:50},{1:100},\"auto\"]\n",
    "                     }\n",
    "my_clf=grid_search.GridSearchCV(clf2,parameters_to_tune)\n",
    "my_clf.fit(features,labels)\n",
    "print my_clf.best_params_"
   ]
  },
  {
   "cell_type": "markdown",
   "metadata": {},
   "source": [
    "## Cross Validation Scoring - Recall"
   ]
  },
  {
   "cell_type": "code",
   "execution_count": 59,
   "metadata": {},
   "outputs": [],
   "source": [
    "?tree.DecisionTreeClassifier"
   ]
  },
  {
   "cell_type": "code",
   "execution_count": 60,
   "metadata": {},
   "outputs": [
    {
     "name": "stdout",
     "output_type": "stream",
     "text": [
      "{'max_features': 6, 'splitter': 'random', 'min_samples_leaf': 4, 'max_depth': 4, 'class_weight': 'auto'}\n"
     ]
    }
   ],
   "source": [
    "clf3 = tree.DecisionTreeClassifier()\n",
    "parameters_to_tune = {\n",
    "                        'min_samples_leaf':[1,2,4,10],'max_depth':[None,4,10],\n",
    "                        'splitter' : ('best','random'),'max_features':[4,6,10],'class_weight':[{1:10},{1:20},{1:50},{1:100},\"auto\"]\n",
    "                     }\n",
    "my_clf3=grid_search.GridSearchCV(clf3,parameters_to_tune,scoring='recall')\n",
    "my_clf3.fit(features,labels)\n",
    "print my_clf3.best_params_"
   ]
  },
  {
   "cell_type": "code",
   "execution_count": 62,
   "metadata": {},
   "outputs": [],
   "source": [
    "tree.export_graphviz(\n",
    "    my_clf3.best_estimator_.tree_,\n",
    "    out_file='3.5_gridsearch_recall-tree.dot'\n",
    ")"
   ]
  },
  {
   "cell_type": "code",
   "execution_count": 63,
   "metadata": {},
   "outputs": [
    {
     "data": {
      "text/plain": [
       "DecisionTreeClassifier(class_weight='auto', criterion='gini', max_depth=4,\n",
       "            max_features=6, max_leaf_nodes=None, min_samples_leaf=4,\n",
       "            min_samples_split=2, min_weight_fraction_leaf=0.0,\n",
       "            random_state=None, splitter='random')"
      ]
     },
     "execution_count": 63,
     "output_type": "execute_result",
     "metadata": {}
    }
   ],
   "source": [
    "my_clf3.best_estimator_"
   ]
  }
 ],
 "metadata": {
  "kernelspec": {
   "display_name": "Python 2",
   "language": "python",
   "name": "python2"
  },
  "language_info": {
   "codemirror_mode": {
    "name": "ipython",
    "version": 2.0
   },
   "file_extension": ".py",
   "mimetype": "text/x-python",
   "name": "python",
   "nbconvert_exporter": "python",
   "pygments_lexer": "ipython2",
   "version": "2.7.10"
  },
  "widgets": {
   "state": {},
   "version": "1.1.1"
  }
 },
 "nbformat": 4,
 "nbformat_minor": 0
}