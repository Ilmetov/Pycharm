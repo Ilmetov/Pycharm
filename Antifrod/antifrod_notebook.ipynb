{
 "worksheets": [
  {
   "cells": [
    {
     "cell_type": "code",
     "metadata": {},
     "outputs": [],
     "input": [
      "from pandas import read_csv, DataFrame\n",
      "from sklearn.neighbors import KNeighborsRegressor\n",
      "from sklearn.linear_model import LinearRegression, LogisticRegression\n",
      "from sklearn.svm import SVR\n",
      "from sklearn.ensemble import RandomForestRegressor\n",
      "from sklearn.metrics import r2_score\n",
      "from sklearn.cross_validation import train_test_split\n",
      "\n",
      "learn = read_csv('full_learn_dataset.csv',';',low_memory=False)\n",
      "\n",
      "trg = learn[['type']]\n",
      "trn = learn.drop(['type'], axis=1)"
     ],
     "language": "python"
    },
    {
     "cell_type": "code",
     "metadata": {},
     "outputs": [],
     "input": [
      "trg.head()"
     ],
     "language": "python"
    },
    {
     "cell_type": "code",
     "metadata": {},
     "outputs": [],
     "input": [
      ""
     ],
     "language": "python"
    }
   ]
  }
 ],
 "cells": [],
 "metadata": {},
 "nbformat": 3,
 "nbformat_minor": 0
}